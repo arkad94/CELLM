{
 "cells": [
  {
   "cell_type": "code",
   "execution_count": null,
   "id": "a2c7b66e-c1ea-423f-949c-882c00fea6df",
   "metadata": {},
   "outputs": [],
   "source": [
    "Electronic Component 1 Name,Electronic Component 1 Cost,Mechanical Component 1 Name,Mechanical Component 1 Cost,Raw Material 1 Name,Raw Material 1 Cost,Conversion Cost 1 Type,Conversion Cost 1 Detail,Conversion Cost 1 Cost,Logistic Choice,Estimated Delivery Cost,Total Cost per Unit,Quantity,Total Project Cost,Electronic Component 2 Name,Electronic Component 2 Cost,Electronic Component 3 Name,Electronic Component 3 Cost,Mechanical Component 2 Name,Mechanical Component 2 Cost,Mechanical Component 3 Name,Mechanical Component 3 Cost,Raw Material 2 Name,Raw Material 2 Cost,Conversion Cost 2 Type,Conversion Cost 2 Detail,Conversion Cost 2 Cost,Conversion Cost 3 Type,Conversion Cost 3 Detail,Conversion Cost 3 Cost,Quality Control 1 Type,Quality Control 1 Detail,Quality Control 1 Cost,Quality Control 2 Type,Quality Control 2 Detail,Quality Control 2 Cost\n",
    "Potentiometer,0.75,Injection-Molded Plastic Casing,0.55,ABS Plastic,0.4,Labor,Assembly Labor,0.6,Air,0.5,6.2,1000,6200,Microcontroller,1.5,Voltage Regulator,0.25,Brass Contact Pins,0.3,Mounting Clamp,0.35,Steel,0.25,Labor,Testing and Calibration,0.35,Labor,Packaging Labor,0.25,Quality Control,Inspection,0.15,Quality Control,Testing Equipment Depreciation,0.1\n"
   ]
  },
  {
   "cell_type": "markdown",
   "id": "f3382241-9cf2-4f8b-9e95-db484c1b7f58",
   "metadata": {},
   "source": [
    "All cost removed, currently simplfying to create a list\n"
   ]
  },
  {
   "cell_type": "code",
   "execution_count": null,
   "id": "39aef297-0a2e-4b41-862d-ece656858211",
   "metadata": {},
   "outputs": [],
   "source": [
    "Electronic Component 1,Mechanical Component 1 Name,Raw Material 1 Name,Conversion Cost 1 Type,Conversion Cost 1 Detail,Logistic Choice,Electronic Component 2 Name,,Electronic Component 3 Name,Mechanical Component 2 Name,Mechanical Component 3 Name,Raw Material 2 Name,Conversion Cost 2 Type,Conversion Cost 2 Detail,Conversion Cost 3 Type,Conversion Cost 3 Detail,Quality Control 1 Type,Quality Control 1 Detail,Quality Control 2 Type,Quality Control 2 Detail\n",
    "Potentiometer,Injection-Molded Plastic Casing,ABS Plastic,Labor,Assembly Labor,Air,Microcontroller,Voltage Regulator,Brass Contact Pins,Mounting Clamp,Steel,Labor,Testing and Calibration,Labor,Packaging Labor,Quality Control,Inspection,Quality Control,Testing Equipment Depreciation"
   ]
  }
 ],
 "metadata": {
  "kernelspec": {
   "display_name": "Python 3 (ipykernel)",
   "language": "python",
   "name": "python3"
  },
  "language_info": {
   "codemirror_mode": {
    "name": "ipython",
    "version": 3
   },
   "file_extension": ".py",
   "mimetype": "text/x-python",
   "name": "python",
   "nbconvert_exporter": "python",
   "pygments_lexer": "ipython3",
   "version": "3.12.2"
  }
 },
 "nbformat": 4,
 "nbformat_minor": 5
}
